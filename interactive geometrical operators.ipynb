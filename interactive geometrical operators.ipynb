{
 "cells": [
  {
   "cell_type": "code",
   "execution_count": 1,
   "metadata": {
    "collapsed": false
   },
   "outputs": [
    {
     "name": "stdout",
     "output_type": "stream",
     "text": [
      "Eigenvalue of length for trivalent vertex= 3.917986269e-33 m\n",
      "Eigenvalue of length for divalent vertex= 4.11440677249416e-35 m\n",
      "Quantum of length in quantum tetrahedron = 1.50404288463322e-35 m\n",
      "angle between faces 1 and 2 in quantum tetrahedron =  2.094 "
     ]
    },
    {
     "name": "stdout",
     "output_type": "stream",
     "text": [
      "radians\n",
      "angle between faces 1 and 2 in quantum tetrahedron =  120.0 degrees\n",
      "Area of face 1= 8.464e-70 m2\n",
      "Area of face 2= 8.464e-70 m2\n",
      "Area of face 3= 8.464e-70 m2\n",
      "Area of face 4= 9.774e-70 m2\n",
      "Total area of quantum tetrahedron = 3.517e-69 m2\n",
      "volume eigenvalue = 6.81738546445\n",
      "volume of tetrahedron = 4.1e-103 m3\n",
      "volume eigenvalue = 5.98911277545\n",
      "volume of tetrahedron = 3.6e-103 m3\n",
      "volume eigenvalue = 5.13284275761\n",
      "volume of tetrahedron = 3.1e-103 m3\n",
      "volume eigenvalue = 4.22498403835\n",
      "volume of tetrahedron = 2.5e-103 m3\n",
      "volume eigenvalue = 3.20398569718\n",
      "volume of tetrahedron = 1.9e-103 m3\n",
      "volume eigenvalue = 1.8276060214\n",
      "volume of tetrahedron = 1.1e-103 m3\n"
     ]
    }
   ],
   "source": [
    "#####################################################################\n",
    "#Quantum tetrahedron volume, area and angle eigenvalues\n",
    "#\n",
    "#by David Horgan.\n",
    "\n",
    "#In this interact I calculate the angle, area and volume for a quantum tetrahedron The angle is found using the expression: theta = arccos((j3*(j3+1)-(j1*(j1+j1)-#j2*(j2+1))/(2*sqrt(j1*(j1+j1)*j2*(j2+1)))) The area is found using the expression: A=sqrt(j1*(j1+1)) The volume is fund using the expression V^2 =M = 2/9(real #antisymmetrix matrix)\n",
    "#\n",
    "#Values of constants gamma is Immirzi parameter gamma =numerical_approx( ln(2)/(pi*sqrt(2))) #G = 6.63*10^-11 hbar= (1.61619926*10^-35)/(2*pi) lp is the planck #length lp3=6*10^-104 Reference: Bohr-Sommerfeld Quantization of Space by Eugenio Bianchi and Hal M. Haggard. Reference: Shape in an atom of space: exploring #quantum geometry phenomenology by Seth A. Major.\n",
    "#\n",
    "#Research Blog: http://quantumtetrahedron.wordpress.com\n",
    "#\n",
    "#Given the values of J1, J2, J3 and J4 this interact calculates the volume, area and angle eigenvalues of a quantum tetrahedron.\n",
    "########################################################################################\n",
    "\n",
    "\n",
    "\n",
    "\n",
    "\n",
    "\n",
    "\n",
    "\n",
    "import numpy\n",
    "\n",
    "\n",
    "\n",
    "@interact\n",
    "\n",
    "\n",
    "\n",
    "\n",
    "def _(j1 = input_box(6.0, 'J1'),\n",
    "      j2= input_box(6.0, 'J2'),\n",
    "      j3= input_box(6.0, 'J3'),\n",
    "      j4= input_box(7.0, 'J1'), auto_update=False):\n",
    "    if (j1+j2)<= (j3+j4):\n",
    "        html('<h3>Value of length eigenvalue in m</h3>')\n",
    "        #calculate trivalent vertex length\n",
    "        lp=1.61619926*10^-35\n",
    "        c0 = sqrt(j3+0.5)\n",
    "        c1 = j3+1\n",
    "        c2 = j1+j2+j3+2\n",
    "        c3 = j1+j2-j3\n",
    "        c4 = j2+j3-j1+1\n",
    "        c5 = j1+j2+j3+1\n",
    "        c6 = j1+j2-j3+1\n",
    "        c7 = j2+j3-j1\n",
    "        c8 = j3+j1-j2\n",
    "        c9 = sqrt(c2*c3*c4)\n",
    "        c10= sqrt(c5*c6*c7*c8)\n",
    "        c11=c1*c9\n",
    "        c12=j3*c10\n",
    "        c13=c12+c11\n",
    "        const = lp/c0\n",
    "        a=const*c13\n",
    "        length = numerical_approx( a, digits=10)\n",
    "        #divalent vertex\n",
    "        dilength=lp*sqrt(sqrt(j1*(j1+1)))\n",
    "        # quantum of length\n",
    "        quant = numerical_approx(lp*(1/sqrt(2))*(sqrt(sqrt(3))))\n",
    "        #monochromatic four valent vertex\n",
    "        print \"Eigenvalue of length for trivalent vertex=\",length,\"m\"\n",
    "        print \"Eigenvalue of length for divalent vertex=\",dilength,\"m\"\n",
    "        print \"Quantum of length in quantum tetrahedron =\",quant,\"m\"\n",
    "\n",
    "\n",
    "\n",
    "\n",
    "\n",
    "\n",
    "\n",
    "\n",
    "\n",
    "        html('<h3>Value of Angle eigenvalue in radians</h3>')\n",
    "        d2=j3*(j3+1)\n",
    "        d3=j1*(j1+1)\n",
    "        d4=j2*(j2+1)\n",
    "        d5=d2-d3-d4\n",
    "        d6=2*sqrt(d3*d4)\n",
    "        d7=d5/d6\n",
    "        d8=arccos(d7)\n",
    "        d8a=numerical_approx(d8, digits=4)\n",
    "        angle = numerical_approx(d8*180/pi, digits=4)\n",
    "        if angle != NaN:\n",
    "             print 'angle between faces 1 and 2 in quantum tetrahedron = ',d8a, 'radians'\n",
    "             print 'angle between faces 1 and 2 in quantum tetrahedron = ',angle,'degrees'\n",
    "\n",
    "        html('<h3>main sequence Area eigenvalues</h3>')\n",
    "        lp=1.61619926*10^-35\n",
    "        main1=numerical_approx(sqrt(j1*(j1+1)),digits=4)\n",
    "        areamain1 =0.5*lp^2*main1\n",
    "        print 'Area of face 1=', areamain1, 'm2'\n",
    "        main2=numerical_approx(sqrt(j2*(j2+1)),digits=4)\n",
    "        areamain2 =0.5*lp^2*main2\n",
    "        print 'Area of face 2=', areamain2, 'm2'\n",
    "        main3=numerical_approx(sqrt(j3*(j3+1)),digits=4)\n",
    "        areamain3 =0.5*lp^2*main3\n",
    "        print 'Area of face 3=', areamain3, 'm2'\n",
    "        main4=numerical_approx(sqrt(j4*(j4+1)),digits=4)\n",
    "        areamain4 =0.5*lp^2*main4\n",
    "        print 'Area of face 4=', areamain4, 'm2'\n",
    "        area = areamain1 + areamain3 +areamain3+areamain4\n",
    "        print 'Total area of quantum tetrahedron =', area, 'm2'\n",
    "\n",
    "\n",
    "\n",
    "\n",
    "\n",
    "\n",
    "\n",
    "\n",
    "\n",
    "        html('<h3>Values of Volume Eigenvalue</h3>')\n",
    "        kmin = int(max(abs(j1-j2),abs(j3 -j4)))\n",
    "        kmax = int(min((j1+j2),(j3 +j4)))\n",
    "        d = kmax -kmin + 1\n",
    "        y=numpy.arange(kmin,kmax+1,1)\n",
    "        kmatrix = matrix(CDF,int(d), int(d))\n",
    "        r=list()\n",
    "        for j in range(d):\n",
    "            k=int(y[j])\n",
    "            c1 = -i*k\n",
    "            c2 = sqrt(4*k*k - 1)\n",
    "            c3 = sqrt(j1*(j1+1))\n",
    "            c4 = sqrt((2*j1+1))\n",
    "            c5 = sqrt(j3*(j3+1))\n",
    "            c6 = sqrt((2*j3+1))\n",
    "            c7 = wigner_6j(j1,1,j1,k,j2,k-1)\n",
    "            c8 = wigner_6j(j3,1,j3,k,j4,k-1)\n",
    "            a = c1*c2*c3*c4*c5*c6*c7*c8\n",
    "            r.append(a)\n",
    "            q=numerical_approx(a, digits=10)\n",
    "            #print r\n",
    "        for j in range(d-1):\n",
    "            kmatrix[[j],[j+1]]=r[j+1]\n",
    "            kmatrix[[j+1],[j]]=-r[j+1]\n",
    "            #print kmatrix\n",
    "\n",
    "        M = (2/9)*kmatrix\n",
    "        #print M\n",
    "        s=M.eigenvalues()\n",
    "        #print s\n",
    "        lp3=6*10^-104\n",
    "        for j in range(d):\n",
    "            e= sqrt(s[j])\n",
    "            vol = lp3*e\n",
    "            volume = numerical_approx(vol, digits=2)\n",
    "            if e.imag() ==0:\n",
    "                print \"volume eigenvalue =\",(e)\n",
    "                print \"volume of tetrahedron =\", volume, 'm3'"
   ]
  },
  {
   "cell_type": "code",
   "execution_count": 0,
   "metadata": {
    "collapsed": false
   },
   "outputs": [
   ],
   "source": [
    "4"
   ]
  },
  {
   "cell_type": "code",
   "execution_count": 0,
   "metadata": {
    "collapsed": false
   },
   "outputs": [
   ],
   "source": [
    "4"
   ]
  },
  {
   "cell_type": "code",
   "execution_count": 0,
   "metadata": {
    "collapsed": false
   },
   "outputs": [
   ],
   "source": [
    "4"
   ]
  },
  {
   "cell_type": "code",
   "execution_count": 0,
   "metadata": {
    "collapsed": false
   },
   "outputs": [
   ],
   "source": [
    "4"
   ]
  }
 ],
 "metadata": {
  "kernelspec": {
   "display_name": "SageMath (stable)",
   "name": "sagemath"
  },
  "language_info": {
   "codemirror_mode": {
    "name": "ipython",
    "version": 2
   },
   "file_extension": ".py",
   "mimetype": "text/x-python",
   "name": "python",
   "nbconvert_exporter": "python",
   "pygments_lexer": "ipython2",
   "version": "2.7.15"
  }
 },
 "nbformat": 4,
 "nbformat_minor": 0
}