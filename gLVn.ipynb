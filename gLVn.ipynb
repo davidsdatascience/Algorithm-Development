{
  "nbformat": 4,
  "nbformat_minor": 0,
  "metadata": {
    "colab": {
      "name": "gLVn.ipynb",
      "version": "0.3.2",
      "provenance": [],
      "collapsed_sections": [],
      "include_colab_link": true
    },
    "kernelspec": {
      "name": "python3",
      "display_name": "Python 3"
    }
  },
  "cells": [
    {
      "cell_type": "markdown",
      "metadata": {
        "id": "view-in-github",
        "colab_type": "text"
      },
      "source": [
        "<a href=\"https://colab.research.google.com/github/davidsdatascience/Algorithm-Development/blob/master/gLVn.ipynb\" target=\"_parent\"><img src=\"https://colab.research.google.com/assets/colab-badge.svg\" alt=\"Open In Colab\"/></a>"
      ]
    },
    {
      "cell_type": "code",
      "metadata": {
        "id": "2JSnOvi0JGEx",
        "colab_type": "code",
        "colab": {}
      },
      "source": [
        "%matplotlib inline\n",
        "import numpy as np\n",
        "import matplotlib.pyplot as plt\n",
        "import pylab as p\n",
        "from scipy.integrate import odeint\n",
        "import itertools\n",
        "import ast\n",
        "import pandas as pd\n",
        "\n",
        "import numpy as np\n",
        "import matplotlib.pyplot as plt\n",
        "from IPython.display import display\n",
        "\n",
        "from numpy import *\n",
        "import pylab as p\n",
        "import numpy as np\n",
        "from scipy.integrate import odeint\n",
        "import matplotlib.animation as animation\n",
        "import itertools\n",
        "import ast\n",
        "import pandas as pd"
      ],
      "execution_count": 0,
      "outputs": []
    },
    {
      "cell_type": "markdown",
      "metadata": {
        "collapsed": false,
        "id": "XULWEXWHJGE4",
        "colab_type": "text"
      },
      "source": [
        "In this section of the model I look at the effect of having a number of competiting retailers for customers."
      ]
    },
    {
      "cell_type": "markdown",
      "metadata": {
        "id": "IaeSL9t9KajJ",
        "colab_type": "text"
      },
      "source": [
        "#https://en.wikipedia.org/wiki/Generalized_Lotka%E2%80%93Volterra_equation\n",
        "#generalised Lotka-Volterra equations\n",
        "#dx/dt = xf(x)\n",
        "#f(x) = r + Ax\n",
        "#r +ve producer\n",
        "#r -ve predator or paracite \n",
        "#aij, aji -ve  direct competition\n",
        "#aij, aji  +ve mutualism \n",
        "#aij -ve  and aji +ve predator prey \n",
        "\n",
        "## #aii are usually -ve  self limiting\n"
      ]
    },
    {
      "cell_type": "markdown",
      "metadata": {
        "collapsed": false,
        "id": "ByuK9smbJGE8",
        "colab_type": "text"
      },
      "source": [
        "In this section of the paper I look at the Lotka-Volterra competition model. This is based on a logistic growth curve rather than exponential growth.\n",
        "\n",
        "dydx=x(1-x)"
      ]
    },
    {
      "cell_type": "markdown",
      "metadata": {
        "collapsed": false,
        "id": "lCdQ_TIvJGFD",
        "colab_type": "text"
      },
      "source": [
        "In this section of the paper I look at the Lotka-Volterra competition model. This is based on a logistic growth curve rather than exponential growth.Include intraction between the retailer and customer via the interaction matrix A"
      ]
    },
    {
      "cell_type": "markdown",
      "metadata": {
        "collapsed": false,
        "id": "T3EUkjGNJGFU",
        "colab_type": "text"
      },
      "source": [
        "Predator-Prey Equations¶\n",
        "Also known as Lotka-Volterra equations, the predator-prey equations are a pair of first-order non-linear ordinary differential equations. They represent a simplified model of the change in populations of two species which interact via predation. For example, foxes (predators) and rabbits (prey). Let  x  and  y represent rabbit and fox populations, respectively. Then\n",
        "dxdt=x(a−by) dydt=−y(c−dx)\n",
        " \n",
        "Here  a ,  b ,  c  and  d  are parameters, which are assumed to be positive."
      ]
    },
    {
      "cell_type": "code",
      "metadata": {
        "id": "eyQk0fdOJGFY",
        "colab_type": "code",
        "colab": {
          "base_uri": "https://localhost:8080/",
          "height": 527
        },
        "outputId": "41b60718-4cf4-4a55-bbc3-01fcdb61de34"
      },
      "source": [
        "#Include intraction between the retailer and customer via the interaction matrix A\n",
        "#dx1/dt=r1x1(1-(x1+a12x2))\n",
        "#k => absorb into interaction matrix\n",
        "\n",
        "N=10\n",
        "\n",
        "\n",
        "P0=np.empty(N)\n",
        "r=np.empty(N)\n",
        "H = np.empty([N])\n",
        "\n",
        "# data from gLVmodel excel - grocery marketshare\n",
        "r=[0.014681091,0.045633814,0.142166691,0.220170343,0.341902891,0.589467078,0.001,0.660139209,0.372670613,0.001] # r is inherent  growth rate from web-glv\n",
        "P0=[29, 16.7, 16.9, 11.1,4.9,5.9,5.2,3.5,2.7,2.2] #initial value of marketshare at t=0\n",
        "P=np.empty([N])## marketshare\n",
        "A = np.empty([N, N])\n",
        "\n",
        "\n",
        "#A is the interaction matrix derived from web-glv see gLVmodel excel - grocery marketshare\n",
        "\n",
        "A=np.matrix([[-0.000261131,\t-0.000263615,\t-0.000767489,\t0.000865447,\t0.000973085,\t-0.0007256,\t0.003765107,\t-0.001468199,\t-0.000473384,\t-0.006263097],[-0.000448127,\t-0.001587244,\t-0.00163845,\t0.002267011,\t-0.002875188,\t-0.00086675,\t0.004609827,\t0.002230098,\t-0.001908067,\t-0.005072557],[-0.002165193,\t-0.000440709,\t0,\t-0.004276206,\t-0.004938346,\t0.001771555,\t-0.010461319,\t0.003274761,\t-0.003916167,\t0.01965198],[-0.000888101,\t-0.00440019,\t-0.003206023,\t0,\t-0.005787586,\t-0.004698994,\t-0.001789189,\t0.002432293,\t-0.000394209,\t-0.004057076],[-0.004021085,\t-5.68E-05,\t-0.002183075,\t-0.006691559,\t-0.003725332,\t-0.004566359,\t-0.015140104,\t-0.002665002,\t0.00047719,\t0.009361273],[-0.002716247,\t-0.009880499,\t-0.006321051,\t-0.003038021,\t-0.001599051,\t-0.010493647,\t-0.013503739,\t-0.010646605,\t0.001534814,\t-0.0146291],[-0.002735017,\t-0.00039006,\t0.003208017,\t-0.001947318,\t-0.002786606,\t0.004309099,\t-0.00205074,\t0.004003674,\t-0.001281961,\t0.018241281],[-0.007862654,\t-0.005724647,\t-0.003725139,\t-0.010182607,\t-0.002892208,\t-0.00656507,\t-0.01165742,\t-0.010539184,\t-0.004520211,\t0.001449085],[-0.005244326,\t-0.006065601,\t0.001642421,\t-0.005969264,\t-0.014443858,\t-0.006870365,\t-0.013650285,\t0.011698712,\t0,\t0.028473417],[0.000413682,\t0.004860985,\t-0.003120028,\t0.00087073,\t-0.00455283,\t0.003916378,\t-0.013320081,\t0.005930274,\t-0.001888977,\t0]])\n",
        "\n",
        "\n",
        "\n",
        "\n",
        "print(A)\n",
        "\n",
        "\n",
        "#A=np.matrix([[1.0,0.0,0.0, 0.0],[0.0,1.0,0.0, 0.0],[0.0,0.0,1.0, 0.0],[0.0,0.0,0.0, 1.0]])\n",
        "\n",
        "\n",
        "\n",
        "\n",
        "for i in range(N):\n",
        "    for j in range(N):\n",
        "        H[i]=(r[i]*P[i]-r[i]*P[i]*(1-P[i]-(A[i,j]*P[j])))\n",
        "\n",
        "\n",
        "#print(H)\n",
        "    \n",
        "\n",
        "ts = np.linspace(0, 1200000, 100)\n",
        "def dP_dt(P,t):\n",
        "    return H\n",
        "\n",
        "Ps = odeint(dP_dt, P0, ts)"
      ],
      "execution_count": 47,
      "outputs": [
        {
          "output_type": "stream",
          "text": [
            "[[-2.6113100e-04 -2.6361500e-04 -7.6748900e-04  8.6544700e-04\n",
            "   9.7308500e-04 -7.2560000e-04  3.7651070e-03 -1.4681990e-03\n",
            "  -4.7338400e-04 -6.2630970e-03]\n",
            " [-4.4812700e-04 -1.5872440e-03 -1.6384500e-03  2.2670110e-03\n",
            "  -2.8751880e-03 -8.6675000e-04  4.6098270e-03  2.2300980e-03\n",
            "  -1.9080670e-03 -5.0725570e-03]\n",
            " [-2.1651930e-03 -4.4070900e-04  0.0000000e+00 -4.2762060e-03\n",
            "  -4.9383460e-03  1.7715550e-03 -1.0461319e-02  3.2747610e-03\n",
            "  -3.9161670e-03  1.9651980e-02]\n",
            " [-8.8810100e-04 -4.4001900e-03 -3.2060230e-03  0.0000000e+00\n",
            "  -5.7875860e-03 -4.6989940e-03 -1.7891890e-03  2.4322930e-03\n",
            "  -3.9420900e-04 -4.0570760e-03]\n",
            " [-4.0210850e-03 -5.6800000e-05 -2.1830750e-03 -6.6915590e-03\n",
            "  -3.7253320e-03 -4.5663590e-03 -1.5140104e-02 -2.6650020e-03\n",
            "   4.7719000e-04  9.3612730e-03]\n",
            " [-2.7162470e-03 -9.8804990e-03 -6.3210510e-03 -3.0380210e-03\n",
            "  -1.5990510e-03 -1.0493647e-02 -1.3503739e-02 -1.0646605e-02\n",
            "   1.5348140e-03 -1.4629100e-02]\n",
            " [-2.7350170e-03 -3.9006000e-04  3.2080170e-03 -1.9473180e-03\n",
            "  -2.7866060e-03  4.3090990e-03 -2.0507400e-03  4.0036740e-03\n",
            "  -1.2819610e-03  1.8241281e-02]\n",
            " [-7.8626540e-03 -5.7246470e-03 -3.7251390e-03 -1.0182607e-02\n",
            "  -2.8922080e-03 -6.5650700e-03 -1.1657420e-02 -1.0539184e-02\n",
            "  -4.5202110e-03  1.4490850e-03]\n",
            " [-5.2443260e-03 -6.0656010e-03  1.6424210e-03 -5.9692640e-03\n",
            "  -1.4443858e-02 -6.8703650e-03 -1.3650285e-02  1.1698712e-02\n",
            "   0.0000000e+00  2.8473417e-02]\n",
            " [ 4.1368200e-04  4.8609850e-03 -3.1200280e-03  8.7073000e-04\n",
            "  -4.5528300e-03  3.9163780e-03 -1.3320081e-02  5.9302740e-03\n",
            "  -1.8889770e-03  0.0000000e+00]]\n"
          ],
          "name": "stdout"
        }
      ]
    },
    {
      "cell_type": "code",
      "metadata": {
        "id": "3P7iW35oJGFc",
        "colab_type": "code",
        "colab": {
          "base_uri": "https://localhost:8080/",
          "height": 290
        },
        "outputId": "7ac8572a-0f92-41c8-a389-d72115e124a6"
      },
      "source": [
        "\n",
        "for i in range(N):\n",
        "    plt.plot(ts, Ps[:,i], color=list(np.random.random(size=3) * 1), label=\"comp\"  + str(i))\n",
        "\n",
        "\n",
        "\n",
        "\n",
        "comp0=Ps[:,0]\n",
        "comp1=Ps[:,1]\n",
        "comp2=Ps[:,2]\n",
        "comp3=Ps[:,3]\n",
        "comp4=Ps[:,4]\n",
        "comp5=Ps[:,5]\n",
        "comp6=Ps[:,6]\n",
        "comp7=Ps[:,7]\n",
        "comp8=Ps[:,8]\n",
        "comp9=Ps[:,9]\n",
        "color = list(np.random.random(size=3) * 256)\n",
        "\n",
        "\n",
        "#plt.plot(ts, comp0, color=list(np.random.random(size=3) * 1), label=\"comp0\")\n",
        "#plt.plot(ts, comp1, color=list(np.random.random(size=3) * 1), label=\"comp1\")\n",
        "#plt.plot(ts, comp2, color=list(np.random.random(size=3) * 1), label=\"comp2\")\n",
        "#plt.plot(ts, comp3, color=list(np.random.random(size=3) * 1), label=\"comp3\")\n",
        "#plt.plot(ts, comp4, color=list(np.random.random(size=3) * 1), label=\"comp4\")\n",
        "#plt.plot(ts, comp5, color=list(np.random.random(size=3) * 1), label=\"comp5\")\n",
        "#plt.plot(ts, comp6, color=list(np.random.random(size=3) * 1), label=\"comp6\")\n",
        "#plt.plot(ts, comp7, color=list(np.random.random(size=3) * 1), label=\"comp7\")\n",
        "#plt.plot(ts, comp8, color=list(np.random.random(size=3) * 1), label=\"comp8\")\n",
        "#plt.plot(ts, comp9, color=list(np.random.random(size=3) * 1), label=\"comp9\")\n",
        "\n",
        "\n",
        "\n",
        "plt.xlabel(\"Time\")\n",
        "plt.ylabel(\"Population\")\n",
        "plt.legend();"
      ],
      "execution_count": 48,
      "outputs": [
        {
          "output_type": "display_data",
          "data": {
            "image/png": "[encoded data removed]",
            "text/plain": [
              "<Figure size 432x288 with 1 Axes>"
            ]
          },
          "metadata": {
            "tags": []
          }
        }
      ]
    },
    {
      "cell_type": "code",
      "metadata": {
        "id": "vv8QkHP9JGFp",
        "colab_type": "code",
        "colab": {
          "base_uri": "https://localhost:8080/",
          "height": 283
        },
        "outputId": "65606fd9-464d-40b5-c80b-2639aaa3f325"
      },
      "source": [
        "#Progress of Theoretical Physics, Yol. 96, No.1, July 1996\n",
        "#Seasonal Isochronic Forcing of Lotka Volterra Equations\n",
        "#John VANDERMEER \n",
        "#Include intraction between the retailer and customer via the interaction matrix A\n",
        "# department store marketshare =81%\n",
        "# online retailer market share = 11.4\n",
        "# growth rate of department store share = -10%\n",
        "# growth rate of online retailers = 4.1%\n",
        "\n",
        "#see https://sites.duke.edu/djepapers/files/2016/08/jones.pdf\n",
        "#https://ir.debenhams.com/static-files/0fd324ce-5cb4-4a35-8429-11ac949bf908\n",
        "#https://ir.debenhams.com/sites/g/files/knoqqb38816/themes/site/nir_pid1372/IAR/assets/downloads/Financial%20Statements.pdf\n",
        "#dP/dt=aNP-mP\n",
        "#dN/dt= r[(1 +sinwt)/2]N - bN2- eNP\n",
        "\n",
        "\n",
        "k=[1.0,1.0]# carrying capacity\n",
        "r=[-0.1,0.04]# r is inherent per-capita growth rate\n",
        "P0=[0.81, 0.114]#initial value of population 1 and population 2 at t=0\n",
        "A=np.matrix([[-0.03,0.0],[0.0,0.030]])#interaction matrix\n",
        "\n",
        "\n",
        "\n",
        "\n",
        "def dP_dt(P,t):\n",
        "    return [r[0]*P[0]*(1 - P[0]-A[0,0]*P[1]/k[0]), r[1]*P[1]*(1-P[1]-A[1,1]*P[0]/k[1])]\n",
        "\n",
        "ts = np.linspace(0, 100, 100)\n",
        "Ps = odeint(dP_dt, P0, ts)\n",
        "customer = Ps[:,0]\n",
        "retailer = Ps[:,1]\n",
        "\n",
        "\n",
        "plt.plot(ts, customer, color='Blue', label=\"store\")\n",
        "plt.plot(ts, retailer, color='Red', label=\"online\")\n",
        "plt.xlabel(\"Time\")\n",
        "plt.ylabel(\"Population\")\n",
        "plt.legend();"
      ],
      "execution_count": 43,
      "outputs": [
        {
          "output_type": "display_data",
          "data": {
            "image/png": "[encoded data removed]",
            "text/plain": [
              "<Figure size 432x288 with 1 Axes>"
            ]
          },
          "metadata": {
            "tags": []
          }
        }
      ]
    },
    {
      "cell_type": "code",
      "metadata": {
        "id": "ggm83_d7a_U0",
        "colab_type": "code",
        "colab": {
          "base_uri": "https://localhost:8080/",
          "height": 786
        },
        "outputId": "03dc996d-9fef-4d9b-f69e-20ea9819548c"
      },
      "source": [
        "#Include intraction between the retailer and customer via the interaction matrix A\n",
        "#dx1/dt=r1x1(1-(x1+a12x2))\n",
        "#k => absorb into interaction matrix\n",
        "\n",
        "N=10\n",
        "\n",
        "\n",
        "P0=np.empty(N)\n",
        "r=np.empty(N)\n",
        "H = np.empty([N])\n",
        "\n",
        "# data from gLVmodel excel - grocery marketshare\n",
        "r=[0.014681091,0.045633814,0.142166691,0.220170343,0.341902891,0.589467078,0.001,0.660139209,0.372670613,0.001] # r is inherent  growth rate from web-glv\n",
        "P0=[29, 16.7, 16.9, 11.1,4.9,5.9,5.2,3.5,2.7,2.2] #initial value of marketshare at t=0\n",
        "P=np.empty([N])## marketshare\n",
        "A = np.empty([N, N])\n",
        "\n",
        "\n",
        "#A is the interaction matrix derived from web-glv see gLVmodel excel - grocery marketshare\n",
        "\n",
        "A=np.matrix([[-0.000261131,\t-0.000263615,\t-0.000767489,\t0.000865447,\t0.000973085,\t-0.0007256,\t0.003765107,\t-0.001468199,\t-0.000473384,\t-0.006263097],[-0.000448127,\t-0.001587244,\t-0.00163845,\t0.002267011,\t-0.002875188,\t-0.00086675,\t0.004609827,\t0.002230098,\t-0.001908067,\t-0.005072557],[-0.002165193,\t-0.000440709,\t0,\t-0.004276206,\t-0.004938346,\t0.001771555,\t-0.010461319,\t0.003274761,\t-0.003916167,\t0.01965198],[-0.000888101,\t-0.00440019,\t-0.003206023,\t0,\t-0.005787586,\t-0.004698994,\t-0.001789189,\t0.002432293,\t-0.000394209,\t-0.004057076],[-0.004021085,\t-5.68E-05,\t-0.002183075,\t-0.006691559,\t-0.003725332,\t-0.004566359,\t-0.015140104,\t-0.002665002,\t0.00047719,\t0.009361273],[-0.002716247,\t-0.009880499,\t-0.006321051,\t-0.003038021,\t-0.001599051,\t-0.010493647,\t-0.013503739,\t-0.010646605,\t0.001534814,\t-0.0146291],[-0.002735017,\t-0.00039006,\t0.003208017,\t-0.001947318,\t-0.002786606,\t0.004309099,\t-0.00205074,\t0.004003674,\t-0.001281961,\t0.018241281],[-0.007862654,\t-0.005724647,\t-0.003725139,\t-0.010182607,\t-0.002892208,\t-0.00656507,\t-0.01165742,\t-0.010539184,\t-0.004520211,\t0.001449085],[-0.005244326,\t-0.006065601,\t0.001642421,\t-0.005969264,\t-0.014443858,\t-0.006870365,\t-0.013650285,\t0.011698712,\t0,\t0.028473417],[0.000413682,\t0.004860985,\t-0.003120028,\t0.00087073,\t-0.00455283,\t0.003916378,\t-0.013320081,\t0.005930274,\t-0.001888977,\t0]])\n",
        "\n",
        "\n",
        "\n",
        "\n",
        "print(A)\n",
        "\n",
        "\n",
        "#A=np.matrix([[1.0,0.0,0.0, 0.0],[0.0,1.0,0.0, 0.0],[0.0,0.0,1.0, 0.0],[0.0,0.0,0.0, 1.0]])\n",
        "\n",
        "\n",
        "\n",
        "\n",
        "for i in range(N):\n",
        "    for j in range(N):\n",
        "        H[i]=P[i]*(r[i]+(A[i,j]*P[i]))\n",
        "\n",
        "\n",
        "#print(H)\n",
        "    \n",
        "\n",
        "ts = np.linspace(0, 12, 100)\n",
        "def dP_dt(P,t):\n",
        "    return H\n",
        "\n",
        "Ps = odeint(dP_dt, P0, ts)\n",
        "\n",
        "for i in range(N):\n",
        "    plt.plot(ts, Ps[:,i], color=list(np.random.random(size=3) * 1), label=\"comp\"  + str(i))\n",
        "\n",
        "\n",
        "\n",
        "\n",
        "comp0=Ps[:,0]\n",
        "comp1=Ps[:,1]\n",
        "comp2=Ps[:,2]\n",
        "comp3=Ps[:,3]\n",
        "comp4=Ps[:,4]\n",
        "comp5=Ps[:,5]\n",
        "comp6=Ps[:,6]\n",
        "comp7=Ps[:,7]\n",
        "comp8=Ps[:,8]\n",
        "comp9=Ps[:,9]\n",
        "color = list(np.random.random(size=3) * 256)\n",
        "\n",
        "\n",
        "\n",
        "\n",
        "\n",
        "\n",
        "\n",
        "\n"
      ],
      "execution_count": 50,
      "outputs": [
        {
          "output_type": "stream",
          "text": [
            "[[-2.6113100e-04 -2.6361500e-04 -7.6748900e-04  8.6544700e-04\n",
            "   9.7308500e-04 -7.2560000e-04  3.7651070e-03 -1.4681990e-03\n",
            "  -4.7338400e-04 -6.2630970e-03]\n",
            " [-4.4812700e-04 -1.5872440e-03 -1.6384500e-03  2.2670110e-03\n",
            "  -2.8751880e-03 -8.6675000e-04  4.6098270e-03  2.2300980e-03\n",
            "  -1.9080670e-03 -5.0725570e-03]\n",
            " [-2.1651930e-03 -4.4070900e-04  0.0000000e+00 -4.2762060e-03\n",
            "  -4.9383460e-03  1.7715550e-03 -1.0461319e-02  3.2747610e-03\n",
            "  -3.9161670e-03  1.9651980e-02]\n",
            " [-8.8810100e-04 -4.4001900e-03 -3.2060230e-03  0.0000000e+00\n",
            "  -5.7875860e-03 -4.6989940e-03 -1.7891890e-03  2.4322930e-03\n",
            "  -3.9420900e-04 -4.0570760e-03]\n",
            " [-4.0210850e-03 -5.6800000e-05 -2.1830750e-03 -6.6915590e-03\n",
            "  -3.7253320e-03 -4.5663590e-03 -1.5140104e-02 -2.6650020e-03\n",
            "   4.7719000e-04  9.3612730e-03]\n",
            " [-2.7162470e-03 -9.8804990e-03 -6.3210510e-03 -3.0380210e-03\n",
            "  -1.5990510e-03 -1.0493647e-02 -1.3503739e-02 -1.0646605e-02\n",
            "   1.5348140e-03 -1.4629100e-02]\n",
            " [-2.7350170e-03 -3.9006000e-04  3.2080170e-03 -1.9473180e-03\n",
            "  -2.7866060e-03  4.3090990e-03 -2.0507400e-03  4.0036740e-03\n",
            "  -1.2819610e-03  1.8241281e-02]\n",
            " [-7.8626540e-03 -5.7246470e-03 -3.7251390e-03 -1.0182607e-02\n",
            "  -2.8922080e-03 -6.5650700e-03 -1.1657420e-02 -1.0539184e-02\n",
            "  -4.5202110e-03  1.4490850e-03]\n",
            " [-5.2443260e-03 -6.0656010e-03  1.6424210e-03 -5.9692640e-03\n",
            "  -1.4443858e-02 -6.8703650e-03 -1.3650285e-02  1.1698712e-02\n",
            "   0.0000000e+00  2.8473417e-02]\n",
            " [ 4.1368200e-04  4.8609850e-03 -3.1200280e-03  8.7073000e-04\n",
            "  -4.5528300e-03  3.9163780e-03 -1.3320081e-02  5.9302740e-03\n",
            "  -1.8889770e-03  0.0000000e+00]]\n"
          ],
          "name": "stdout"
        },
        {
          "output_type": "display_data",
          "data": {
            "image/png": "[encoded data removed]",
            "text/plain": [
              "<Figure size 432x288 with 1 Axes>"
            ]
          },
          "metadata": {
            "tags": []
          }
        }
      ]
    }
  ]
}